{
 "cells": [
  {
   "cell_type": "code",
   "execution_count": 9,
   "id": "a541df9f",
   "metadata": {},
   "outputs": [],
   "source": [
    "def delete_rows(input_file, output_file, delete_interval):\n",
    "    with open(input_file, 'r') as f:\n",
    "        lines = f.readlines()\n",
    "\n",
    "    # Delete rows every delete_interval\n",
    "    modified_lines = [line for i, line in enumerate(lines, start=1) if i % delete_interval != 0]\n",
    "\n",
    "    with open(output_file, 'w') as f:\n",
    "        f.writelines(modified_lines)\n",
    "\n",
    "# Example usage\n",
    "input_file = '3000.txt'\n",
    "output_file = 'rdf_3000K.txt'\n",
    "delete_interval = 1001\n",
    "\n",
    "delete_rows(input_file, output_file, delete_interval)\n"
   ]
  },
  {
   "cell_type": "code",
   "execution_count": null,
   "id": "bbe8c61f",
   "metadata": {},
   "outputs": [],
   "source": []
  }
 ],
 "metadata": {
  "kernelspec": {
   "display_name": "Python 3 (ipykernel)",
   "language": "python",
   "name": "python3"
  },
  "language_info": {
   "codemirror_mode": {
    "name": "ipython",
    "version": 3
   },
   "file_extension": ".py",
   "mimetype": "text/x-python",
   "name": "python",
   "nbconvert_exporter": "python",
   "pygments_lexer": "ipython3",
   "version": "3.10.9"
  }
 },
 "nbformat": 4,
 "nbformat_minor": 5
}
